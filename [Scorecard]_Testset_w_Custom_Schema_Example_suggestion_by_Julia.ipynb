{
  "cells": [
    {
      "cell_type": "markdown",
      "metadata": {
        "colab_type": "text",
        "id": "view-in-github"
      },
      "source": [
        "<a href=\"https://colab.research.google.com/github/scorecard-ai/scorecard-cookbook/blob/main/%5BScorecard%5D_Testset_w_Custom_Schema_Example.ipynb\" target=\"_parent\"><img src=\"https://colab.research.google.com/assets/colab-badge.svg\" alt=\"Open In Colab\"/></a>"
      ]
    },
    {
      "cell_type": "markdown",
      "metadata": {
        "id": "LjecdsSRPPai"
      },
      "source": [
        "# Create a Scorecard Testset with Custom Schema\n",
        "\n",
        "## 🧙‍♂️ Instructions\n",
        "\n",
        "1. Create a Scorecard account and [login here](https://app.getscorecard.ai/).\n",
        "2. Copy your [Scorecard API key](https://app.getscorecard.ai/api-key).\n",
        "3. Add your Scorecard API key below.\n",
        "4. Run the entire cookbook by:\n",
        "    - In Google Colab: Go to `Runtime` -> `Run all`.\n",
        "    - In Jupyter notebooks: Go to `Cell` -> `Run all`.\n"
      ]
    },
    {
      "cell_type": "markdown",
      "metadata": {
        "id": "xO5brg_tzz4A"
      },
      "source": [
        "# 👉 Initial Setup"
      ]
    },
    {
      "cell_type": "markdown",
      "metadata": {},
      "source": [
        "## Set Scorecard API Key"
      ]
    },
    {
      "cell_type": "code",
      "execution_count": 5,
      "metadata": {
        "id": "wAsJ8kJ6O1TI"
      },
      "outputs": [],
      "source": [
        "SCORECARD_API_KEY = \"replace-with-your-Scorecard-API-Key\""
      ]
    },
    {
      "cell_type": "markdown",
      "metadata": {},
      "source": [
        "## Install Dependencies\n",
        "\n",
        "Info: In order to keep the notebook working for all future users, we pin the dependency versions."
      ]
    },
    {
      "cell_type": "code",
      "execution_count": null,
      "metadata": {
        "cellView": "form",
        "id": "B_wcdhcPzyQ3"
      },
      "outputs": [],
      "source": [
        "!pip install scorecard-ai==0.1.12\n",
        "!pip install openai==1.11.1"
      ]
    },
    {
      "cell_type": "markdown",
      "metadata": {},
      "source": [
        "## Import Libraries"
      ]
    },
    {
      "cell_type": "code",
      "execution_count": 7,
      "metadata": {
        "cellView": "form",
        "id": "dod8Xp-5z5i7"
      },
      "outputs": [],
      "source": [
        "import json\n",
        "from openai import OpenAI\n",
        "from scorecard.client import Scorecard\n",
        "from scorecard.types import CustomSchema, CustomVariable"
      ]
    },
    {
      "cell_type": "markdown",
      "metadata": {
        "id": "YCbMNYhl4IMU"
      },
      "source": [
        "# Evaluate your system\n",
        "\n",
        "### Pre-req: Create Metrics\n",
        "\n",
        "First, using the Scorecard application, create your metrics and scoring config. For this example,\n",
        "we can use something simple like a Helpfulness metric that determines whether\n",
        "the generation adheres to the user's request.\n",
        "\n",
        "Once you have created your scoring config, copy the ID and enter it below:"
      ]
    },
    {
      "cell_type": "code",
      "execution_count": null,
      "metadata": {
        "id": "KqtQRU694Jft"
      },
      "outputs": [],
      "source": [
        "#@title 1. Create a basic Testset\n",
        "#@markdown Here we'll create a basic Testset that gets stored in Scorecard.\n",
        "\n",
        "\n",
        "\n",
        "client = Scorecard(\n",
        "    api_key=SCORECARD_API_KEY,\n",
        ")\n",
        "\n",
        "# Create a Testset\n",
        "testset = client.testset.create(\n",
        "    name=\"Story Opening Lines\",\n",
        "    description=\"Demo of a testset created via Scorecard Python SDK\",\n",
        "    using_retrieval=False,\n",
        "    custom_schema=CustomSchema(\n",
        "        variables=[\n",
        "            CustomVariable(\n",
        "                name=\"custom_params\",\n",
        "                description=\"Custom Parameters for this Testset.\",\n",
        "                role=\"input\",\n",
        "                data_type=\"json_object\",\n",
        "            ),\n",
        "        ]\n",
        "    ),\n",
        ")\n",
        "\n",
        "# Add three testcases\n",
        "client.testcase.create(\n",
        "    testset_id=testset.id,\n",
        "    user_query=\"query\",\n",
        "    custom_inputs={\n",
        "        \"custom_params\": json.dumps(\n",
        "            {\n",
        "                \"key\": \"value\",\n",
        "                \"link\": \"https://www.google.com\",\n",
        "                \"number\": 1,\n",
        "                \"nested\": {\"key\": \"value\"},\n",
        "            }\n",
        "        ),\n",
        "    },\n",
        ")\n",
        "\n",
        "print(\"Visit the Scorecard app to view your Testset:\")\n",
        "print(f\"https://app.getscorecard.ai/view-dataset/{testset.id}\")"
      ]
    }
  ],
  "metadata": {
    "colab": {
      "include_colab_link": true,
      "provenance": []
    },
    "kernelspec": {
      "display_name": "Python 3",
      "name": "python3"
    },
    "language_info": {
      "name": "python"
    }
  },
  "nbformat": 4,
  "nbformat_minor": 0
}
